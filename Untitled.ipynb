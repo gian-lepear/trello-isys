{
 "cells": [
  {
   "cell_type": "code",
   "execution_count": 1,
   "metadata": {
    "collapsed": true
   },
   "outputs": [],
   "source": [
    "import requests\n",
    "import pandas as pd\n",
    "import numpy as np\n",
    "import json"
   ]
  },
  {
   "cell_type": "code",
   "execution_count": 2,
   "metadata": {
    "collapsed": true
   },
   "outputs": [],
   "source": [
    "API_KEY = '115cfbe32e4f1650f8fbba149821f57b'\n",
    "OAUTH_TOKEN = 'b157d9c2d8ef88f37f95823af3150404c7a3a158ca02f97e7c647b61e7551810'\n",
    "BOARD = 'EPl91X9X'"
   ]
  },
  {
   "cell_type": "code",
   "execution_count": 3,
   "metadata": {},
   "outputs": [],
   "source": [
    "url = \"https://api.trello.com/1/boards/\"+ BOARD \n",
    "\n",
    "querystring = {\"key\":API_KEY,\"token\":OAUTH_TOKEN, \"cards\":\"all\", \"members\":\"all\",\"labels\":\"all\",\"labels_field\":\"name\" ,\"members\":\"all\",\"member_fields\":\"fullName\"}\n",
    "\n",
    "response = requests.request(\"GET\", url, params=querystring)\n",
    "\n",
    "data = json.loads(response.text)"
   ]
  },
  {
   "cell_type": "markdown",
   "metadata": {},
   "source": [
    "Criando DataFrame de Labels do Quadro\n",
    "-------------------------------------"
   ]
  },
  {
   "cell_type": "code",
   "execution_count": 4,
   "metadata": {},
   "outputs": [
    {
     "data": {
      "text/html": [
       "<div>\n",
       "<style>\n",
       "    .dataframe thead tr:only-child th {\n",
       "        text-align: right;\n",
       "    }\n",
       "\n",
       "    .dataframe thead th {\n",
       "        text-align: left;\n",
       "    }\n",
       "\n",
       "    .dataframe tbody tr th {\n",
       "        vertical-align: top;\n",
       "    }\n",
       "</style>\n",
       "<table border=\"1\" class=\"dataframe\">\n",
       "  <thead>\n",
       "    <tr style=\"text-align: right;\">\n",
       "      <th></th>\n",
       "      <th>idLabel</th>\n",
       "      <th>nameLabel</th>\n",
       "    </tr>\n",
       "  </thead>\n",
       "  <tbody>\n",
       "    <tr>\n",
       "      <th>0</th>\n",
       "      <td>557eed22c3caa18119ddb9b2</td>\n",
       "      <td>Altera URA</td>\n",
       "    </tr>\n",
       "    <tr>\n",
       "      <th>1</th>\n",
       "      <td>557eed22c3caa18119ddb9b5</td>\n",
       "      <td>Outbound</td>\n",
       "    </tr>\n",
       "    <tr>\n",
       "      <th>2</th>\n",
       "      <td>570fffc9b0dfecc6d1e6c0c5</td>\n",
       "      <td>Relatório</td>\n",
       "    </tr>\n",
       "    <tr>\n",
       "      <th>3</th>\n",
       "      <td>557eed22c3caa18119ddb9b1</td>\n",
       "      <td>Sistema novo</td>\n",
       "    </tr>\n",
       "    <tr>\n",
       "      <th>4</th>\n",
       "      <td>557eed22c3caa18119ddb9b3</td>\n",
       "      <td>Configuração na Estratégia</td>\n",
       "    </tr>\n",
       "    <tr>\n",
       "      <th>5</th>\n",
       "      <td>557eed22c3caa18119ddb9b0</td>\n",
       "      <td>Internet</td>\n",
       "    </tr>\n",
       "    <tr>\n",
       "      <th>6</th>\n",
       "      <td>5739c2345b9b3323fb096c01</td>\n",
       "      <td>Alterar sistema</td>\n",
       "    </tr>\n",
       "    <tr>\n",
       "      <th>7</th>\n",
       "      <td>5756c70784e677fd3606a00d</td>\n",
       "      <td>Configuração</td>\n",
       "    </tr>\n",
       "    <tr>\n",
       "      <th>8</th>\n",
       "      <td>557eed22c3caa18119ddb9b4</td>\n",
       "      <td>CRM</td>\n",
       "    </tr>\n",
       "    <tr>\n",
       "      <th>9</th>\n",
       "      <td>5a60a723e6b30f08167f1e46</td>\n",
       "      <td>Documentação</td>\n",
       "    </tr>\n",
       "    <tr>\n",
       "      <th>10</th>\n",
       "      <td>5a16ca2126ac2f6c4f59e59c</td>\n",
       "      <td>CHAT</td>\n",
       "    </tr>\n",
       "    <tr>\n",
       "      <th>11</th>\n",
       "      <td>5a8f2f18b52512b540eea859</td>\n",
       "      <td>Investigação</td>\n",
       "    </tr>\n",
       "  </tbody>\n",
       "</table>\n",
       "</div>"
      ],
      "text/plain": [
       "                     idLabel                   nameLabel\n",
       "0   557eed22c3caa18119ddb9b2                  Altera URA\n",
       "1   557eed22c3caa18119ddb9b5                    Outbound\n",
       "2   570fffc9b0dfecc6d1e6c0c5                   Relatório\n",
       "3   557eed22c3caa18119ddb9b1                Sistema novo\n",
       "4   557eed22c3caa18119ddb9b3  Configuração na Estratégia\n",
       "5   557eed22c3caa18119ddb9b0                    Internet\n",
       "6   5739c2345b9b3323fb096c01             Alterar sistema\n",
       "7   5756c70784e677fd3606a00d                Configuração\n",
       "8   557eed22c3caa18119ddb9b4                         CRM\n",
       "9   5a60a723e6b30f08167f1e46                Documentação\n",
       "10  5a16ca2126ac2f6c4f59e59c                        CHAT\n",
       "11  5a8f2f18b52512b540eea859                Investigação"
      ]
     },
     "execution_count": 4,
     "metadata": {},
     "output_type": "execute_result"
    }
   ],
   "source": [
    "df_labels = pd.DataFrame(data['labels'])\n",
    "df_labels = df_labels.loc[:, ['id','name']]\n",
    "#alterando o nome das colunas pois isso evitará problemas futuros\n",
    "df_labels.columns = ['idLabel', 'nameLabel']\n",
    "df_labels"
   ]
  },
  {
   "cell_type": "markdown",
   "metadata": {},
   "source": [
    "Criando DataFrame de Pessoas do Quadro\n",
    "--------------------------------------"
   ]
  },
  {
   "cell_type": "code",
   "execution_count": 5,
   "metadata": {},
   "outputs": [
    {
     "data": {
      "text/html": [
       "<div>\n",
       "<style>\n",
       "    .dataframe thead tr:only-child th {\n",
       "        text-align: right;\n",
       "    }\n",
       "\n",
       "    .dataframe thead th {\n",
       "        text-align: left;\n",
       "    }\n",
       "\n",
       "    .dataframe tbody tr th {\n",
       "        vertical-align: top;\n",
       "    }\n",
       "</style>\n",
       "<table border=\"1\" class=\"dataframe\">\n",
       "  <thead>\n",
       "    <tr style=\"text-align: right;\">\n",
       "      <th></th>\n",
       "      <th>fullName</th>\n",
       "      <th>idName</th>\n",
       "    </tr>\n",
       "  </thead>\n",
       "  <tbody>\n",
       "    <tr>\n",
       "      <th>0</th>\n",
       "      <td>Alexandre Souza</td>\n",
       "      <td>517ab3dfedc9a8e516000eb7</td>\n",
       "    </tr>\n",
       "    <tr>\n",
       "      <th>1</th>\n",
       "      <td>Amanda Leite</td>\n",
       "      <td>5908a741090315a11886f029</td>\n",
       "    </tr>\n",
       "    <tr>\n",
       "      <th>2</th>\n",
       "      <td>Carlos Eduardo Pereira dos Santos</td>\n",
       "      <td>5717e90ad0673e1be61b472c</td>\n",
       "    </tr>\n",
       "    <tr>\n",
       "      <th>3</th>\n",
       "      <td>Danilo</td>\n",
       "      <td>5a7335d3358f72e6c5d682fe</td>\n",
       "    </tr>\n",
       "    <tr>\n",
       "      <th>4</th>\n",
       "      <td>Debora Lopes</td>\n",
       "      <td>59a9c478bb07d6b29fec6090</td>\n",
       "    </tr>\n",
       "    <tr>\n",
       "      <th>5</th>\n",
       "      <td>Fellipe Ritter Madureira</td>\n",
       "      <td>51827ad18ed588ad72000992</td>\n",
       "    </tr>\n",
       "    <tr>\n",
       "      <th>6</th>\n",
       "      <td>Geraldo Ribeiro</td>\n",
       "      <td>59a9c6b565f0d1330c821f0c</td>\n",
       "    </tr>\n",
       "    <tr>\n",
       "      <th>7</th>\n",
       "      <td>Giancarlo Lester</td>\n",
       "      <td>595267c213f2cd1c9ff06999</td>\n",
       "    </tr>\n",
       "    <tr>\n",
       "      <th>8</th>\n",
       "      <td>Igor Watanabe</td>\n",
       "      <td>59a9c6259640f75cea3c2179</td>\n",
       "    </tr>\n",
       "    <tr>\n",
       "      <th>9</th>\n",
       "      <td>Jaqueline Sakuma</td>\n",
       "      <td>5952a9a56aed2d053ca64a40</td>\n",
       "    </tr>\n",
       "    <tr>\n",
       "      <th>10</th>\n",
       "      <td>Manoel Teles</td>\n",
       "      <td>59529cb077f03634e9eb6123</td>\n",
       "    </tr>\n",
       "    <tr>\n",
       "      <th>11</th>\n",
       "      <td>Rafael Dutra</td>\n",
       "      <td>590259f38bc81f03be6e653a</td>\n",
       "    </tr>\n",
       "    <tr>\n",
       "      <th>12</th>\n",
       "      <td>Robson Galdino</td>\n",
       "      <td>517ec2038491d676240011d6</td>\n",
       "    </tr>\n",
       "    <tr>\n",
       "      <th>13</th>\n",
       "      <td>William</td>\n",
       "      <td>55f989c564cee42dca59a03e</td>\n",
       "    </tr>\n",
       "  </tbody>\n",
       "</table>\n",
       "</div>"
      ],
      "text/plain": [
       "                             fullName                    idName\n",
       "0                     Alexandre Souza  517ab3dfedc9a8e516000eb7\n",
       "1                        Amanda Leite  5908a741090315a11886f029\n",
       "2   Carlos Eduardo Pereira dos Santos  5717e90ad0673e1be61b472c\n",
       "3                              Danilo  5a7335d3358f72e6c5d682fe\n",
       "4                        Debora Lopes  59a9c478bb07d6b29fec6090\n",
       "5            Fellipe Ritter Madureira  51827ad18ed588ad72000992\n",
       "6                     Geraldo Ribeiro  59a9c6b565f0d1330c821f0c\n",
       "7                    Giancarlo Lester  595267c213f2cd1c9ff06999\n",
       "8                       Igor Watanabe  59a9c6259640f75cea3c2179\n",
       "9                    Jaqueline Sakuma  5952a9a56aed2d053ca64a40\n",
       "10                       Manoel Teles  59529cb077f03634e9eb6123\n",
       "11                       Rafael Dutra  590259f38bc81f03be6e653a\n",
       "12                     Robson Galdino  517ec2038491d676240011d6\n",
       "13                            William  55f989c564cee42dca59a03e"
      ]
     },
     "execution_count": 5,
     "metadata": {},
     "output_type": "execute_result"
    }
   ],
   "source": [
    "df_members = pd.DataFrame(data['members'])\n",
    "#alterando o nome das colunas pois isso evitará problemas futuros\n",
    "df_members.columns = ['fullName', 'idName']\n",
    "df_members"
   ]
  },
  {
   "cell_type": "markdown",
   "metadata": {},
   "source": [
    "Criando DataFrame de Cards do Quadro (nome, descrição, Id das Labels e Id das Pessoas)\n",
    "------------------------------------------------------------------------------------------"
   ]
  },
  {
   "cell_type": "code",
   "execution_count": 16,
   "metadata": {},
   "outputs": [
    {
     "data": {
      "text/html": [
       "<div>\n",
       "<style>\n",
       "    .dataframe thead tr:only-child th {\n",
       "        text-align: right;\n",
       "    }\n",
       "\n",
       "    .dataframe thead th {\n",
       "        text-align: left;\n",
       "    }\n",
       "\n",
       "    .dataframe tbody tr th {\n",
       "        vertical-align: top;\n",
       "    }\n",
       "</style>\n",
       "<table border=\"1\" class=\"dataframe\">\n",
       "  <thead>\n",
       "    <tr style=\"text-align: right;\">\n",
       "      <th></th>\n",
       "      <th>idCard</th>\n",
       "      <th>name</th>\n",
       "      <th>desc</th>\n",
       "      <th>idLabels</th>\n",
       "      <th>idMembers</th>\n",
       "    </tr>\n",
       "  </thead>\n",
       "  <tbody>\n",
       "    <tr>\n",
       "      <th>0</th>\n",
       "      <td>5ac274c8cf2beacc74a5e5b6</td>\n",
       "      <td>MASDAR-65 | [URA PSAC] Ajustar MobiReader atua...</td>\n",
       "      <td>*Para * que seja possível continuar informando...</td>\n",
       "      <td>[557eed22c3caa18119ddb9b2, 570fffc9b0dfecc6d1e...</td>\n",
       "      <td>[]</td>\n",
       "    </tr>\n",
       "    <tr>\n",
       "      <th>1</th>\n",
       "      <td>5ac27457c07196f78798a40d</td>\n",
       "      <td>MASDAR-66 | [URA PSAC &amp; PCRT] Ajustar consulta...</td>\n",
       "      <td>*Para * que seja possível continuar informando...</td>\n",
       "      <td>[557eed22c3caa18119ddb9b2, 570fffc9b0dfecc6d1e...</td>\n",
       "      <td>[]</td>\n",
       "    </tr>\n",
       "    <tr>\n",
       "      <th>2</th>\n",
       "      <td>5ac274685273e013b5990f83</td>\n",
       "      <td>MASDAR-64 | [URA PSAC] Ajustar serviço de saqu...</td>\n",
       "      <td>*Para * que seja possível continuar informando...</td>\n",
       "      <td>[557eed22c3caa18119ddb9b2, 570fffc9b0dfecc6d1e...</td>\n",
       "      <td>[]</td>\n",
       "    </tr>\n",
       "    <tr>\n",
       "      <th>3</th>\n",
       "      <td>5ab2590cadfe33f670f32d34</td>\n",
       "      <td>MASDAR-60 | [URA PSAC] Novo Menu - Vendedor Mo...</td>\n",
       "      <td>Preencher o novo menu do cliente Vendedor Mobi...</td>\n",
       "      <td>[557eed22c3caa18119ddb9b2, 570fffc9b0dfecc6d1e...</td>\n",
       "      <td>[]</td>\n",
       "    </tr>\n",
       "    <tr>\n",
       "      <th>4</th>\n",
       "      <td>5aac22babb323e4081717e0d</td>\n",
       "      <td>MASDAR-59 | [URA PSAC] Adicionar ponto de rela...</td>\n",
       "      <td>**Dado que** na URA PSAC existe o fluxo de Car...</td>\n",
       "      <td>[570fffc9b0dfecc6d1e6c0c5, 557eed22c3caa18119d...</td>\n",
       "      <td>[]</td>\n",
       "    </tr>\n",
       "  </tbody>\n",
       "</table>\n",
       "</div>"
      ],
      "text/plain": [
       "                     idCard  \\\n",
       "0  5ac274c8cf2beacc74a5e5b6   \n",
       "1  5ac27457c07196f78798a40d   \n",
       "2  5ac274685273e013b5990f83   \n",
       "3  5ab2590cadfe33f670f32d34   \n",
       "4  5aac22babb323e4081717e0d   \n",
       "\n",
       "                                                name  \\\n",
       "0  MASDAR-65 | [URA PSAC] Ajustar MobiReader atua...   \n",
       "1  MASDAR-66 | [URA PSAC & PCRT] Ajustar consulta...   \n",
       "2  MASDAR-64 | [URA PSAC] Ajustar serviço de saqu...   \n",
       "3  MASDAR-60 | [URA PSAC] Novo Menu - Vendedor Mo...   \n",
       "4  MASDAR-59 | [URA PSAC] Adicionar ponto de rela...   \n",
       "\n",
       "                                                desc  \\\n",
       "0  *Para * que seja possível continuar informando...   \n",
       "1  *Para * que seja possível continuar informando...   \n",
       "2  *Para * que seja possível continuar informando...   \n",
       "3  Preencher o novo menu do cliente Vendedor Mobi...   \n",
       "4  **Dado que** na URA PSAC existe o fluxo de Car...   \n",
       "\n",
       "                                            idLabels idMembers  \n",
       "0  [557eed22c3caa18119ddb9b2, 570fffc9b0dfecc6d1e...        []  \n",
       "1  [557eed22c3caa18119ddb9b2, 570fffc9b0dfecc6d1e...        []  \n",
       "2  [557eed22c3caa18119ddb9b2, 570fffc9b0dfecc6d1e...        []  \n",
       "3  [557eed22c3caa18119ddb9b2, 570fffc9b0dfecc6d1e...        []  \n",
       "4  [570fffc9b0dfecc6d1e6c0c5, 557eed22c3caa18119d...        []  "
      ]
     },
     "execution_count": 16,
     "metadata": {},
     "output_type": "execute_result"
    }
   ],
   "source": [
    "list_data = []\n",
    "for data_json in data['cards']:\n",
    "    list_data.append((data_json['id'], data_json['name'],data_json['desc'], data_json['idLabels'], data_json['idMembers']))\n",
    "df_data = pd.DataFrame(list_data, columns=['idCard','name', 'desc', 'idLabels', 'idMembers'])\n",
    "\n",
    "df_data.head()"
   ]
  },
  {
   "cell_type": "markdown",
   "metadata": {},
   "source": [
    "Função que transforma as colunas que possuem lista em linhas separadas\n",
    "----------------------------------------------------------------------"
   ]
  },
  {
   "cell_type": "code",
   "execution_count": 7,
   "metadata": {},
   "outputs": [],
   "source": [
    "def listToColumn(dataframe, columnName):\n",
    "    s = dataframe.apply(lambda x: pd.Series(x[columnName]),axis=1).stack().reset_index(level=1, drop=True)\n",
    "    s.name = columnName\n",
    "    return df_data.drop(columnName, axis=1).join(s).reset_index(drop=True)"
   ]
  },
  {
   "cell_type": "markdown",
   "metadata": {},
   "source": [
    "Utilizando a função nas colunas **idLabels** e **idMembers**\n",
    "------------------------------------------------------------"
   ]
  },
  {
   "cell_type": "code",
   "execution_count": 19,
   "metadata": {},
   "outputs": [],
   "source": [
    "df_data = listToColumn(df_data, 'idLabels')\n",
    "df_data = listToColumn(df_data, 'idMembers')"
   ]
  },
  {
   "cell_type": "markdown",
   "metadata": {},
   "source": [
    "Vizualizando o resultado\n",
    "------------------------"
   ]
  },
  {
   "cell_type": "code",
   "execution_count": 20,
   "metadata": {},
   "outputs": [
    {
     "name": "stdout",
     "output_type": "stream",
     "text": [
      "<class 'pandas.core.frame.DataFrame'>\n",
      "RangeIndex: 636 entries, 0 to 635\n",
      "Data columns (total 5 columns):\n",
      "idCard       636 non-null object\n",
      "name         636 non-null object\n",
      "desc         636 non-null object\n",
      "idLabels     373 non-null object\n",
      "idMembers    363 non-null object\n",
      "dtypes: object(5)\n",
      "memory usage: 24.9+ KB\n"
     ]
    }
   ],
   "source": [
    "# df_data.head()\n",
    "df_data.info()\n",
    "# df_data.describe()"
   ]
  },
  {
   "cell_type": "markdown",
   "metadata": {},
   "source": [
    "Realizando o merge nos DataFrames \n",
    "---------------------------------"
   ]
  },
  {
   "cell_type": "code",
   "execution_count": 21,
   "metadata": {},
   "outputs": [],
   "source": [
    "# Nessa parte é mostrado o porque foram alteradas os nomes das colunas nos DataFrames Members e Labels, o merge teria mais de uma coluna\n",
    "# com o nome 'name', e então iria renomear as colunas para name_x e name_y, respectivamente.\n",
    "def mergeSemRemoverNaN(dataframe1, dataframe2, column1, column2):\n",
    "    df1 = pd.merge(dataframe1.set_index(column1,drop=False), dataframe2.set_index(column2,drop=False), left_index=True, right_index=True,  how=\"left\")\n",
    "    return df1.reset_index(drop=True).drop([column1,column2], axis=1)"
   ]
  },
  {
   "cell_type": "code",
   "execution_count": 22,
   "metadata": {},
   "outputs": [],
   "source": [
    "df_data = mergeSemRemoverNaN(df_data, df_labels, 'idLabels', 'idLabel')"
   ]
  },
  {
   "cell_type": "code",
   "execution_count": 23,
   "metadata": {},
   "outputs": [],
   "source": [
    "df_data = mergeSemRemoverNaN(df_data, df_members, 'idMembers', 'idName')"
   ]
  },
  {
   "cell_type": "code",
   "execution_count": 29,
   "metadata": {},
   "outputs": [],
   "source": [
    "#DataFrame final\n",
    "df_data\n",
    "#exportar para excel\n",
    "df_data.to_excel('dados_trello_comDesc.xlsx')\n",
    "df_data.loc[:,['idCard','name','nameLabel', 'fullName']].to_excel('dados_trello_semDesc.xlsx')"
   ]
  },
  {
   "cell_type": "code",
   "execution_count": 28,
   "metadata": {},
   "outputs": [
    {
     "name": "stdout",
     "output_type": "stream",
     "text": [
      "<class 'pandas.core.frame.DataFrame'>\n",
      "RangeIndex: 636 entries, 0 to 635\n",
      "Data columns (total 5 columns):\n",
      "idCard       636 non-null object\n",
      "name         636 non-null object\n",
      "desc         636 non-null object\n",
      "nameLabel    373 non-null object\n",
      "fullName     363 non-null object\n",
      "dtypes: object(5)\n",
      "memory usage: 24.9+ KB\n"
     ]
    }
   ],
   "source": [
    "df_data.info()"
   ]
  },
  {
   "cell_type": "code",
   "execution_count": 58,
   "metadata": {},
   "outputs": [],
   "source": [
    "from datetime import datetime\n",
    "\n",
    "x=df_data.idCard.str[0:8]\n",
    "b16 = lambda x: datetime.fromtimestamp(int(x,16))\n",
    "df_data['date'] = x.apply(b16)"
   ]
  },
  {
   "cell_type": "code",
   "execution_count": 60,
   "metadata": {},
   "outputs": [],
   "source": [
    "df_data.set_index('date',inplace=True, )"
   ]
  },
  {
   "cell_type": "code",
   "execution_count": 65,
   "metadata": {},
   "outputs": [],
   "source": [
    "df_data.loc[:,['idCard','name','nameLabel', 'fullName']].to_excel('dados_trello_semDesc.xlsx')"
   ]
  },
  {
   "cell_type": "code",
   "execution_count": null,
   "metadata": {},
   "outputs": [],
   "source": []
  }
 ],
 "metadata": {
  "kernelspec": {
   "display_name": "Python 3",
   "language": "python",
   "name": "python3"
  },
  "language_info": {
   "codemirror_mode": {
    "name": "ipython",
    "version": 3
   },
   "file_extension": ".py",
   "mimetype": "text/x-python",
   "name": "python",
   "nbconvert_exporter": "python",
   "pygments_lexer": "ipython3",
   "version": "3.6.1"
  }
 },
 "nbformat": 4,
 "nbformat_minor": 2
}
