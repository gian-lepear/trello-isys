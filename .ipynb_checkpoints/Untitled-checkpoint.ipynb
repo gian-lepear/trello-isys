{
 "cells": [
  {
   "cell_type": "code",
   "execution_count": 1,
   "metadata": {
    "collapsed": true
   },
   "outputs": [],
   "source": [
    "import requests\n",
    "import pandas as pd\n",
    "import numpy as np\n",
    "import json"
   ]
  },
  {
   "cell_type": "code",
   "execution_count": 39,
   "metadata": {
    "collapsed": true
   },
   "outputs": [],
   "source": [
    "API_KEY = '115cfbe32e4f1650f8fbba149821f57b'\n",
    "OAUTH_TOKEN = 'b157d9c2d8ef88f37f95823af3150404c7a3a158ca02f97e7c647b61e7551810'\n",
    "BOARD = 'j3Q5sv84'"
   ]
  },
  {
   "cell_type": "code",
   "execution_count": 120,
   "metadata": {},
   "outputs": [],
   "source": [
    "url = \"https://api.trello.com/1/boards/\"+ BOARD \n",
    "\n",
    "querystring = {\"key\":API_KEY,\"token\":OAUTH_TOKEN, \"cards\":\"all\", \"members\":\"all\",\"labels\":\"all\",\"labels_field\":\"name\" ,\"members\":\"all\",\"member_fields\":\"fullName\"}\n",
    "\n",
    "response = requests.request(\"GET\", url, params=querystring)\n",
    "\n",
    "data = json.loads(response.text)"
   ]
  },
  {
   "cell_type": "code",
   "execution_count": 121,
   "metadata": {},
   "outputs": [],
   "source": []
  },
  {
   "cell_type": "code",
   "execution_count": 135,
   "metadata": {
    "scrolled": false
   },
   "outputs": [],
   "source": [
    "# data['labels']"
   ]
  },
  {
   "cell_type": "code",
   "execution_count": 126,
   "metadata": {},
   "outputs": [],
   "source": [
    "list_data = []\n",
    "for data_json in data['cards']:\n",
    "    list_data.append((data_json['id'], data_json['name'],data_json['desc'], data_json['idLabels'], data_json['idMembers']))\n",
    "df_data = pd.DataFrame(list_data, columns=['idCard','name', 'desc', 'idLabels', 'idMembers'])"
   ]
  },
  {
   "cell_type": "code",
   "execution_count": 127,
   "metadata": {},
   "outputs": [
    {
     "data": {
      "text/html": [
       "<div>\n",
       "<style>\n",
       "    .dataframe thead tr:only-child th {\n",
       "        text-align: right;\n",
       "    }\n",
       "\n",
       "    .dataframe thead th {\n",
       "        text-align: left;\n",
       "    }\n",
       "\n",
       "    .dataframe tbody tr th {\n",
       "        vertical-align: top;\n",
       "    }\n",
       "</style>\n",
       "<table border=\"1\" class=\"dataframe\">\n",
       "  <thead>\n",
       "    <tr style=\"text-align: right;\">\n",
       "      <th></th>\n",
       "      <th>idCard</th>\n",
       "      <th>name</th>\n",
       "      <th>desc</th>\n",
       "      <th>idLabels</th>\n",
       "      <th>idMembers</th>\n",
       "    </tr>\n",
       "  </thead>\n",
       "  <tbody>\n",
       "    <tr>\n",
       "      <th>0</th>\n",
       "      <td>59aefb23d0dc9b6abea0e69e</td>\n",
       "      <td>Melhorias</td>\n",
       "      <td>O objetivo deste card é listar todas as ideias...</td>\n",
       "      <td>[]</td>\n",
       "      <td>[]</td>\n",
       "    </tr>\n",
       "    <tr>\n",
       "      <th>1</th>\n",
       "      <td>599aff716754e88883035219</td>\n",
       "      <td>Inserir no Confluence: Processos Campanha Tipi...</td>\n",
       "      <td>Aguardando Revisões finais.</td>\n",
       "      <td>[595fea4a1314a3399987ccb7, 595fea4a1314a339998...</td>\n",
       "      <td>[59529cb077f03634e9eb6123, 5952a9a56aed2d053ca...</td>\n",
       "    </tr>\n",
       "    <tr>\n",
       "      <th>2</th>\n",
       "      <td>59a6afa649210a2601b5dcfd</td>\n",
       "      <td>teste   sadasds</td>\n",
       "      <td></td>\n",
       "      <td>[]</td>\n",
       "      <td>[]</td>\n",
       "    </tr>\n",
       "    <tr>\n",
       "      <th>3</th>\n",
       "      <td>599aff732634741a2871c12d</td>\n",
       "      <td>Inserir no Confluence: Processos Uras</td>\n",
       "      <td>Aguardando Revisões finais.</td>\n",
       "      <td>[595fea4a1314a3399987ccb7]</td>\n",
       "      <td>[]</td>\n",
       "    </tr>\n",
       "    <tr>\n",
       "      <th>4</th>\n",
       "      <td>599aff7481a4ceb12a9921a0</td>\n",
       "      <td>Inserir no Confluence: Processos Relatórios</td>\n",
       "      <td>Aguardando Revisões finais.</td>\n",
       "      <td>[595fea4a1314a3399987ccb7]</td>\n",
       "      <td>[]</td>\n",
       "    </tr>\n",
       "  </tbody>\n",
       "</table>\n",
       "</div>"
      ],
      "text/plain": [
       "                     idCard  \\\n",
       "0  59aefb23d0dc9b6abea0e69e   \n",
       "1  599aff716754e88883035219   \n",
       "2  59a6afa649210a2601b5dcfd   \n",
       "3  599aff732634741a2871c12d   \n",
       "4  599aff7481a4ceb12a9921a0   \n",
       "\n",
       "                                                name  \\\n",
       "0                                          Melhorias   \n",
       "1  Inserir no Confluence: Processos Campanha Tipi...   \n",
       "2                                    teste   sadasds   \n",
       "3              Inserir no Confluence: Processos Uras   \n",
       "4        Inserir no Confluence: Processos Relatórios   \n",
       "\n",
       "                                                desc  \\\n",
       "0  O objetivo deste card é listar todas as ideias...   \n",
       "1                        Aguardando Revisões finais.   \n",
       "2                                                      \n",
       "3                        Aguardando Revisões finais.   \n",
       "4                        Aguardando Revisões finais.   \n",
       "\n",
       "                                            idLabels  \\\n",
       "0                                                 []   \n",
       "1  [595fea4a1314a3399987ccb7, 595fea4a1314a339998...   \n",
       "2                                                 []   \n",
       "3                         [595fea4a1314a3399987ccb7]   \n",
       "4                         [595fea4a1314a3399987ccb7]   \n",
       "\n",
       "                                           idMembers  \n",
       "0                                                 []  \n",
       "1  [59529cb077f03634e9eb6123, 5952a9a56aed2d053ca...  \n",
       "2                                                 []  \n",
       "3                                                 []  \n",
       "4                                                 []  "
      ]
     },
     "execution_count": 127,
     "metadata": {},
     "output_type": "execute_result"
    }
   ],
   "source": [
    "df_data.head()"
   ]
  },
  {
   "cell_type": "code",
   "execution_count": 133,
   "metadata": {},
   "outputs": [
    {
     "data": {
      "text/html": [
       "<div>\n",
       "<style>\n",
       "    .dataframe thead tr:only-child th {\n",
       "        text-align: right;\n",
       "    }\n",
       "\n",
       "    .dataframe thead th {\n",
       "        text-align: left;\n",
       "    }\n",
       "\n",
       "    .dataframe tbody tr th {\n",
       "        vertical-align: top;\n",
       "    }\n",
       "</style>\n",
       "<table border=\"1\" class=\"dataframe\">\n",
       "  <thead>\n",
       "    <tr style=\"text-align: right;\">\n",
       "      <th></th>\n",
       "      <th>id</th>\n",
       "      <th>name</th>\n",
       "    </tr>\n",
       "  </thead>\n",
       "  <tbody>\n",
       "    <tr>\n",
       "      <th>0</th>\n",
       "      <td>595fea4a1314a3399987ccb8</td>\n",
       "      <td>UOL Barão</td>\n",
       "    </tr>\n",
       "    <tr>\n",
       "      <th>1</th>\n",
       "      <td>595fea4a1314a3399987ccb7</td>\n",
       "      <td>Doc</td>\n",
       "    </tr>\n",
       "    <tr>\n",
       "      <th>2</th>\n",
       "      <td>595fea4a1314a3399987ccb4</td>\n",
       "      <td></td>\n",
       "    </tr>\n",
       "    <tr>\n",
       "      <th>3</th>\n",
       "      <td>595fea4a1314a3399987ccb5</td>\n",
       "      <td>UOL Angélica</td>\n",
       "    </tr>\n",
       "    <tr>\n",
       "      <th>4</th>\n",
       "      <td>595fea4a1314a3399987ccb6</td>\n",
       "      <td></td>\n",
       "    </tr>\n",
       "    <tr>\n",
       "      <th>5</th>\n",
       "      <td>595fea4a1314a3399987ccb9</td>\n",
       "      <td></td>\n",
       "    </tr>\n",
       "  </tbody>\n",
       "</table>\n",
       "</div>"
      ],
      "text/plain": [
       "                         id          name\n",
       "0  595fea4a1314a3399987ccb8     UOL Barão\n",
       "1  595fea4a1314a3399987ccb7           Doc\n",
       "2  595fea4a1314a3399987ccb4              \n",
       "3  595fea4a1314a3399987ccb5  UOL Angélica\n",
       "4  595fea4a1314a3399987ccb6              \n",
       "5  595fea4a1314a3399987ccb9              "
      ]
     },
     "execution_count": 133,
     "metadata": {},
     "output_type": "execute_result"
    }
   ],
   "source": [
    "df_labels = pd.DataFrame(data['labels'])\n",
    "df_labels = df_labels.loc[:, ['id','name']]\n",
    "df_labels"
   ]
  },
  {
   "cell_type": "code",
   "execution_count": 134,
   "metadata": {},
   "outputs": [
    {
     "data": {
      "text/html": [
       "<div>\n",
       "<style>\n",
       "    .dataframe thead tr:only-child th {\n",
       "        text-align: right;\n",
       "    }\n",
       "\n",
       "    .dataframe thead th {\n",
       "        text-align: left;\n",
       "    }\n",
       "\n",
       "    .dataframe tbody tr th {\n",
       "        vertical-align: top;\n",
       "    }\n",
       "</style>\n",
       "<table border=\"1\" class=\"dataframe\">\n",
       "  <thead>\n",
       "    <tr style=\"text-align: right;\">\n",
       "      <th></th>\n",
       "      <th>fullName</th>\n",
       "      <th>id</th>\n",
       "    </tr>\n",
       "  </thead>\n",
       "  <tbody>\n",
       "    <tr>\n",
       "      <th>0</th>\n",
       "      <td>Alexandre Souza</td>\n",
       "      <td>517ab3dfedc9a8e516000eb7</td>\n",
       "    </tr>\n",
       "    <tr>\n",
       "      <th>1</th>\n",
       "      <td>Amanda Leite</td>\n",
       "      <td>5908a741090315a11886f029</td>\n",
       "    </tr>\n",
       "    <tr>\n",
       "      <th>2</th>\n",
       "      <td>Danilo</td>\n",
       "      <td>5a7335d3358f72e6c5d682fe</td>\n",
       "    </tr>\n",
       "    <tr>\n",
       "      <th>3</th>\n",
       "      <td>Debora Lopes</td>\n",
       "      <td>59a9c478bb07d6b29fec6090</td>\n",
       "    </tr>\n",
       "    <tr>\n",
       "      <th>4</th>\n",
       "      <td>Geraldo Ribeiro</td>\n",
       "      <td>59a9c6b565f0d1330c821f0c</td>\n",
       "    </tr>\n",
       "    <tr>\n",
       "      <th>5</th>\n",
       "      <td>Giancarlo Lester</td>\n",
       "      <td>595267c213f2cd1c9ff06999</td>\n",
       "    </tr>\n",
       "    <tr>\n",
       "      <th>6</th>\n",
       "      <td>Igor Watanabe</td>\n",
       "      <td>59a9c6259640f75cea3c2179</td>\n",
       "    </tr>\n",
       "    <tr>\n",
       "      <th>7</th>\n",
       "      <td>Jaqueline Sakuma</td>\n",
       "      <td>5952a9a56aed2d053ca64a40</td>\n",
       "    </tr>\n",
       "    <tr>\n",
       "      <th>8</th>\n",
       "      <td>Manoel Teles</td>\n",
       "      <td>59529cb077f03634e9eb6123</td>\n",
       "    </tr>\n",
       "    <tr>\n",
       "      <th>9</th>\n",
       "      <td>Marcel</td>\n",
       "      <td>525c3f6596980ee77400071c</td>\n",
       "    </tr>\n",
       "    <tr>\n",
       "      <th>10</th>\n",
       "      <td>Rafael Dutra</td>\n",
       "      <td>590259f38bc81f03be6e653a</td>\n",
       "    </tr>\n",
       "    <tr>\n",
       "      <th>11</th>\n",
       "      <td>Robson Galdino</td>\n",
       "      <td>517ec2038491d676240011d6</td>\n",
       "    </tr>\n",
       "    <tr>\n",
       "      <th>12</th>\n",
       "      <td>William</td>\n",
       "      <td>55f989c564cee42dca59a03e</td>\n",
       "    </tr>\n",
       "  </tbody>\n",
       "</table>\n",
       "</div>"
      ],
      "text/plain": [
       "            fullName                        id\n",
       "0    Alexandre Souza  517ab3dfedc9a8e516000eb7\n",
       "1       Amanda Leite  5908a741090315a11886f029\n",
       "2             Danilo  5a7335d3358f72e6c5d682fe\n",
       "3       Debora Lopes  59a9c478bb07d6b29fec6090\n",
       "4    Geraldo Ribeiro  59a9c6b565f0d1330c821f0c\n",
       "5   Giancarlo Lester  595267c213f2cd1c9ff06999\n",
       "6      Igor Watanabe  59a9c6259640f75cea3c2179\n",
       "7   Jaqueline Sakuma  5952a9a56aed2d053ca64a40\n",
       "8       Manoel Teles  59529cb077f03634e9eb6123\n",
       "9             Marcel  525c3f6596980ee77400071c\n",
       "10      Rafael Dutra  590259f38bc81f03be6e653a\n",
       "11    Robson Galdino  517ec2038491d676240011d6\n",
       "12           William  55f989c564cee42dca59a03e"
      ]
     },
     "execution_count": 134,
     "metadata": {},
     "output_type": "execute_result"
    }
   ],
   "source": [
    "df_members = pd.DataFrame(data['members'])\n",
    "df_members"
   ]
  },
  {
   "cell_type": "code",
   "execution_count": 77,
   "metadata": {},
   "outputs": [],
   "source": [
    "s = df_data.apply(lambda x: pd.Series(x['idLabels']),axis=1).stack().reset_index(level=1, drop=True)"
   ]
  },
  {
   "cell_type": "code",
   "execution_count": 78,
   "metadata": {},
   "outputs": [],
   "source": [
    "s.name = 'idLabel'"
   ]
  },
  {
   "cell_type": "code",
   "execution_count": 81,
   "metadata": {},
   "outputs": [],
   "source": [
    "df_data = df_data.drop('idLabels', axis=1).join(s)"
   ]
  },
  {
   "cell_type": "code",
   "execution_count": 84,
   "metadata": {},
   "outputs": [],
   "source": [
    "s = df_data.apply(lambda x: pd.Series(x['idMembers']),axis=1).stack().reset_index(level=1, drop=True)"
   ]
  },
  {
   "cell_type": "code",
   "execution_count": 86,
   "metadata": {},
   "outputs": [],
   "source": [
    "s.name = 'idMember'"
   ]
  },
  {
   "cell_type": "code",
   "execution_count": 87,
   "metadata": {},
   "outputs": [],
   "source": [
    "df_data = df_data.drop('idMembers', axis=1).join(s)"
   ]
  },
  {
   "cell_type": "code",
   "execution_count": 92,
   "metadata": {},
   "outputs": [],
   "source": [
    "df_data.reset_index(drop=True, inplace=True)"
   ]
  },
  {
   "cell_type": "code",
   "execution_count": 98,
   "metadata": {},
   "outputs": [],
   "source": [
    "df_data = pd.merge(left=df_data, right=df_labels, left_on='idLabel', right_on='idLabel')"
   ]
  },
  {
   "cell_type": "code",
   "execution_count": 100,
   "metadata": {},
   "outputs": [],
   "source": [
    "df_data = pd.merge(left=df_data, right=df_members, left_on='idMember', right_on='idMember')"
   ]
  },
  {
   "cell_type": "code",
   "execution_count": 102,
   "metadata": {},
   "outputs": [],
   "source": [
    "df_data.drop(['idLabel', 'idMember'], axis=1, inplace=True)"
   ]
  },
  {
   "cell_type": "code",
   "execution_count": 115,
   "metadata": {},
   "outputs": [],
   "source": [
    "# df_data"
   ]
  },
  {
   "cell_type": "code",
   "execution_count": 118,
   "metadata": {},
   "outputs": [
    {
     "name": "stdout",
     "output_type": "stream",
     "text": [
      "{\"id\":\"595fea4a74a92e9514a58636\",\"labels\":[{\"id\":\"595fea4a1314a3399987ccb8\",\"idBoard\":\"595fea4a74a92e9514a58636\",\"name\":\"UOL Barão\",\"color\":\"blue\",\"uses\":15},{\"id\":\"595fea4a1314a3399987ccb7\",\"idBoard\":\"595fea4a74a92e9514a58636\",\"name\":\"Doc\",\"color\":\"green\",\"uses\":12},{\"id\":\"595fea4a1314a3399987ccb4\",\"idBoard\":\"595fea4a74a92e9514a58636\",\"name\":\"\",\"color\":\"orange\",\"uses\":0},{\"id\":\"595fea4a1314a3399987ccb5\",\"idBoard\":\"595fea4a74a92e9514a58636\",\"name\":\"UOL Angélica\",\"color\":\"yellow\",\"uses\":0},{\"id\":\"595fea4a1314a3399987ccb6\",\"idBoard\":\"595fea4a74a92e9514a58636\",\"name\":\"\",\"color\":\"red\",\"uses\":0},{\"id\":\"595fea4a1314a3399987ccb9\",\"idBoard\":\"595fea4a74a92e9514a58636\",\"name\":\"\",\"color\":\"purple\",\"uses\":0}],\"members\":[{\"id\":\"517ab3dfedc9a8e516000eb7\",\"fullName\":\"Alexandre Souza\"},{\"id\":\"5908a741090315a11886f029\",\"fullName\":\"Amanda Leite\"},{\"id\":\"5a7335d3358f72e6c5d682fe\",\"fullName\":\"Danilo\"},{\"id\":\"59a9c478bb07d6b29fec6090\",\"fullName\":\"Debora Lopes\"},{\"id\":\"59a9c6b565f0d1330c821f0c\",\"fullName\":\"Geraldo Ribeiro\"},{\"id\":\"595267c213f2cd1c9ff06999\",\"fullName\":\"Giancarlo Lester\"},{\"id\":\"59a9c6259640f75cea3c2179\",\"fullName\":\"Igor Watanabe\"},{\"id\":\"5952a9a56aed2d053ca64a40\",\"fullName\":\"Jaqueline Sakuma\"},{\"id\":\"59529cb077f03634e9eb6123\",\"fullName\":\"Manoel Teles\"},{\"id\":\"525c3f6596980ee77400071c\",\"fullName\":\"Marcel\"},{\"id\":\"590259f38bc81f03be6e653a\",\"fullName\":\"Rafael Dutra\"},{\"id\":\"517ec2038491d676240011d6\",\"fullName\":\"Robson Galdino\"},{\"id\":\"55f989c564cee42dca59a03e\",\"fullName\":\"William\"}]}\n"
     ]
    }
   ],
   "source": [
    "\n",
    "\n",
    "\n",
    "response = requests.request(\"GET\", url, params=querystring)\n",
    "\n",
    "print(response.text)"
   ]
  },
  {
   "cell_type": "code",
   "execution_count": null,
   "metadata": {},
   "outputs": [],
   "source": []
  }
 ],
 "metadata": {
  "kernelspec": {
   "display_name": "Python 3",
   "language": "python",
   "name": "python3"
  },
  "language_info": {
   "codemirror_mode": {
    "name": "ipython",
    "version": 3
   },
   "file_extension": ".py",
   "mimetype": "text/x-python",
   "name": "python",
   "nbconvert_exporter": "python",
   "pygments_lexer": "ipython3",
   "version": "3.6.1"
  }
 },
 "nbformat": 4,
 "nbformat_minor": 2
}
